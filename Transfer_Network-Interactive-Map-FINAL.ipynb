{
 "cells": [
  {
   "cell_type": "code",
   "execution_count": 1,
   "metadata": {},
   "outputs": [],
   "source": [
    "## Purpose: Create a network for transfers in the top 9 leagues\n",
    "## Visualize network "
   ]
  },
  {
   "cell_type": "code",
   "execution_count": 2,
   "metadata": {},
   "outputs": [],
   "source": [
    "import pandas as pd\n",
    "import numpy as np\n",
    "import matplotlib.pyplot as plt\n",
    "import json \n",
    "import math\n",
    "import networkx as nx\n",
    "import re"
   ]
  },
  {
   "cell_type": "code",
   "execution_count": 3,
   "metadata": {},
   "outputs": [],
   "source": [
    "## import plotly and dash packages\n",
    "import plotly.graph_objects as go\n",
    "import dash \n",
    "import dash_core_components as dcc\n",
    "import dash_html_components as html"
   ]
  },
  {
   "cell_type": "code",
   "execution_count": 5,
   "metadata": {},
   "outputs": [
    {
     "data": {
      "text/plain": [
       "'0.24.2'"
      ]
     },
     "execution_count": 5,
     "metadata": {},
     "output_type": "execute_result"
    }
   ],
   "source": [
    "pd.__version__"
   ]
  },
  {
   "cell_type": "code",
   "execution_count": 6,
   "metadata": {},
   "outputs": [
    {
     "data": {
      "text/plain": [
       "'1.16.4'"
      ]
     },
     "execution_count": 6,
     "metadata": {},
     "output_type": "execute_result"
    }
   ],
   "source": [
    "np.__version__"
   ]
  },
  {
   "cell_type": "code",
   "execution_count": 7,
   "metadata": {},
   "outputs": [
    {
     "data": {
      "text/plain": [
       "'2.0.9'"
      ]
     },
     "execution_count": 7,
     "metadata": {},
     "output_type": "execute_result"
    }
   ],
   "source": [
    "json.__version__"
   ]
  },
  {
   "cell_type": "code",
   "execution_count": 8,
   "metadata": {},
   "outputs": [
    {
     "data": {
      "text/plain": [
       "'2.3'"
      ]
     },
     "execution_count": 8,
     "metadata": {},
     "output_type": "execute_result"
    }
   ],
   "source": [
    "nx.__version__"
   ]
  },
  {
   "cell_type": "code",
   "execution_count": 9,
   "metadata": {},
   "outputs": [
    {
     "data": {
      "text/plain": [
       "'2.2.1'"
      ]
     },
     "execution_count": 9,
     "metadata": {},
     "output_type": "execute_result"
    }
   ],
   "source": [
    "re.__version__"
   ]
  },
  {
   "cell_type": "code",
   "execution_count": 10,
   "metadata": {},
   "outputs": [
    {
     "ename": "AttributeError",
     "evalue": "module 'plotly.graph_objects' has no attribute '__version__'",
     "output_type": "error",
     "traceback": [
      "\u001b[1;31m---------------------------------------------------------------------------\u001b[0m",
      "\u001b[1;31mAttributeError\u001b[0m                            Traceback (most recent call last)",
      "\u001b[1;32m<ipython-input-10-7b0245c2f761>\u001b[0m in \u001b[0;36m<module>\u001b[1;34m\u001b[0m\n\u001b[1;32m----> 1\u001b[1;33m \u001b[0mgo\u001b[0m\u001b[1;33m.\u001b[0m\u001b[0m__version__\u001b[0m\u001b[1;33m\u001b[0m\u001b[1;33m\u001b[0m\u001b[0m\n\u001b[0m",
      "\u001b[1;31mAttributeError\u001b[0m: module 'plotly.graph_objects' has no attribute '__version__'"
     ]
    }
   ],
   "source": [
    "go.__version__"
   ]
  },
  {
   "cell_type": "code",
   "execution_count": 11,
   "metadata": {},
   "outputs": [
    {
     "data": {
      "text/plain": [
       "'1.7.0'"
      ]
     },
     "execution_count": 11,
     "metadata": {},
     "output_type": "execute_result"
    }
   ],
   "source": [
    "dash.__version__"
   ]
  },
  {
   "cell_type": "code",
   "execution_count": 13,
   "metadata": {},
   "outputs": [],
   "source": [
    "import plotly"
   ]
  },
  {
   "cell_type": "code",
   "execution_count": 14,
   "metadata": {
    "scrolled": true
   },
   "outputs": [
    {
     "data": {
      "text/plain": [
       "'4.3.0'"
      ]
     },
     "execution_count": 14,
     "metadata": {},
     "output_type": "execute_result"
    }
   ],
   "source": [
    "plotly.__version__"
   ]
  },
  {
   "cell_type": "code",
   "execution_count": 4,
   "metadata": {},
   "outputs": [],
   "source": [
    "## Tutorials referenced\n",
    "# https://plotly.com/python/network-graphs/"
   ]
  },
  {
   "cell_type": "code",
   "execution_count": 5,
   "metadata": {},
   "outputs": [],
   "source": [
    "## read in transfers dataframe and necessary dictionaries\n",
    "transfers = pd.read_csv('transfers.csv')\n",
    "\n",
    "## league info\n",
    "f = open('league_info.json')\n",
    "leagues = json.load(f)\n",
    "f.close()\n",
    "\n",
    "## team and team codes\n",
    "f = open('team_dict.json')\n",
    "teams = json.load(f)\n",
    "f.close()\n",
    "\n",
    "## import all_teams json - this holds all coordinates for every team\n",
    "f = open('all_teams.json')\n",
    "all_teams = json.load(f)\n",
    "f.close()"
   ]
  },
  {
   "cell_type": "code",
   "execution_count": 6,
   "metadata": {},
   "outputs": [
    {
     "data": {
      "text/html": [
       "<div>\n",
       "<style scoped>\n",
       "    .dataframe tbody tr th:only-of-type {\n",
       "        vertical-align: middle;\n",
       "    }\n",
       "\n",
       "    .dataframe tbody tr th {\n",
       "        vertical-align: top;\n",
       "    }\n",
       "\n",
       "    .dataframe thead th {\n",
       "        text-align: right;\n",
       "    }\n",
       "</style>\n",
       "<table border=\"1\" class=\"dataframe\">\n",
       "  <thead>\n",
       "    <tr style=\"text-align: right;\">\n",
       "      <th></th>\n",
       "      <th>lastUpdate</th>\n",
       "      <th>player_id</th>\n",
       "      <th>player_name</th>\n",
       "      <th>transfer_date</th>\n",
       "      <th>type</th>\n",
       "      <th>team_in_id</th>\n",
       "      <th>team_in_name</th>\n",
       "      <th>team_out_id</th>\n",
       "      <th>team_out_name</th>\n",
       "    </tr>\n",
       "  </thead>\n",
       "  <tbody>\n",
       "    <tr>\n",
       "      <th>0</th>\n",
       "      <td>1587248847</td>\n",
       "      <td>230945</td>\n",
       "      <td>Nick Liversedge</td>\n",
       "      <td>2013-09-16</td>\n",
       "      <td>Loan</td>\n",
       "      <td>4694.0</td>\n",
       "      <td>Hyde United</td>\n",
       "      <td>44.0</td>\n",
       "      <td>Burnley</td>\n",
       "    </tr>\n",
       "    <tr>\n",
       "      <th>1</th>\n",
       "      <td>1587248847</td>\n",
       "      <td>230945</td>\n",
       "      <td>Nick Liversedge</td>\n",
       "      <td>2013-07-01</td>\n",
       "      <td>Free</td>\n",
       "      <td>44.0</td>\n",
       "      <td>Burnley</td>\n",
       "      <td>7757.0</td>\n",
       "      <td>Whitby Town</td>\n",
       "    </tr>\n",
       "    <tr>\n",
       "      <th>2</th>\n",
       "      <td>1596440639</td>\n",
       "      <td>19115</td>\n",
       "      <td>B. Peacock-Farrell</td>\n",
       "      <td>2019-08-02</td>\n",
       "      <td>€ 2.8M</td>\n",
       "      <td>44.0</td>\n",
       "      <td>Burnley</td>\n",
       "      <td>63.0</td>\n",
       "      <td>Leeds</td>\n",
       "    </tr>\n",
       "    <tr>\n",
       "      <th>3</th>\n",
       "      <td>1598675887</td>\n",
       "      <td>102734</td>\n",
       "      <td>Richard Chaplow</td>\n",
       "      <td>2005-01-01</td>\n",
       "      <td>2.3M €</td>\n",
       "      <td>60.0</td>\n",
       "      <td>West Brom</td>\n",
       "      <td>44.0</td>\n",
       "      <td>Burnley</td>\n",
       "    </tr>\n",
       "    <tr>\n",
       "      <th>4</th>\n",
       "      <td>1598675893</td>\n",
       "      <td>87911</td>\n",
       "      <td>Martin Paterson</td>\n",
       "      <td>2013-07-01</td>\n",
       "      <td>Free</td>\n",
       "      <td>37.0</td>\n",
       "      <td>Huddersfield</td>\n",
       "      <td>44.0</td>\n",
       "      <td>Burnley</td>\n",
       "    </tr>\n",
       "  </tbody>\n",
       "</table>\n",
       "</div>"
      ],
      "text/plain": [
       "   lastUpdate  player_id         player_name transfer_date    type  \\\n",
       "0  1587248847     230945     Nick Liversedge    2013-09-16    Loan   \n",
       "1  1587248847     230945     Nick Liversedge    2013-07-01    Free   \n",
       "2  1596440639      19115  B. Peacock-Farrell    2019-08-02  € 2.8M   \n",
       "3  1598675887     102734     Richard Chaplow    2005-01-01  2.3M €   \n",
       "4  1598675893      87911     Martin Paterson    2013-07-01    Free   \n",
       "\n",
       "   team_in_id  team_in_name  team_out_id team_out_name  \n",
       "0      4694.0   Hyde United         44.0       Burnley  \n",
       "1        44.0       Burnley       7757.0   Whitby Town  \n",
       "2        44.0       Burnley         63.0         Leeds  \n",
       "3        60.0     West Brom         44.0       Burnley  \n",
       "4        37.0  Huddersfield         44.0       Burnley  "
      ]
     },
     "execution_count": 6,
     "metadata": {},
     "output_type": "execute_result"
    }
   ],
   "source": [
    "transfers.head()"
   ]
  },
  {
   "cell_type": "markdown",
   "metadata": {},
   "source": [
    "## Clean transfers df"
   ]
  },
  {
   "cell_type": "code",
   "execution_count": 7,
   "metadata": {},
   "outputs": [
    {
     "name": "stdout",
     "output_type": "stream",
     "text": [
      "<class 'pandas.core.frame.DataFrame'>\n",
      "RangeIndex: 60766 entries, 0 to 60765\n",
      "Data columns (total 9 columns):\n",
      "lastUpdate       60766 non-null int64\n",
      "player_id        60766 non-null int64\n",
      "player_name      60764 non-null object\n",
      "transfer_date    60766 non-null object\n",
      "type             38998 non-null object\n",
      "team_in_id       60104 non-null float64\n",
      "team_in_name     60120 non-null object\n",
      "team_out_id      60212 non-null float64\n",
      "team_out_name    60235 non-null object\n",
      "dtypes: float64(2), int64(2), object(5)\n",
      "memory usage: 4.2+ MB\n"
     ]
    }
   ],
   "source": [
    "## there is some missing data\n",
    "transfers.info()"
   ]
  },
  {
   "cell_type": "code",
   "execution_count": 8,
   "metadata": {},
   "outputs": [
    {
     "data": {
      "text/plain": [
       "60756      Loan\n",
       "60757      Loan\n",
       "60758      Loan\n",
       "60759    € 1.5M\n",
       "60760      Loan\n",
       "60761       NaN\n",
       "60762       NaN\n",
       "60763       NaN\n",
       "60764      Loan\n",
       "60765       NaN\n",
       "Name: type, dtype: object"
      ]
     },
     "execution_count": 8,
     "metadata": {},
     "output_type": "execute_result"
    }
   ],
   "source": [
    "## I was going to clean and use the transfer fee for node size, but there are too many missing values\n",
    "## so I am just going to drop it\n",
    "transfers['type'].tail(10)"
   ]
  },
  {
   "cell_type": "code",
   "execution_count": 9,
   "metadata": {},
   "outputs": [
    {
     "data": {
      "text/html": [
       "<div>\n",
       "<style scoped>\n",
       "    .dataframe tbody tr th:only-of-type {\n",
       "        vertical-align: middle;\n",
       "    }\n",
       "\n",
       "    .dataframe tbody tr th {\n",
       "        vertical-align: top;\n",
       "    }\n",
       "\n",
       "    .dataframe thead th {\n",
       "        text-align: right;\n",
       "    }\n",
       "</style>\n",
       "<table border=\"1\" class=\"dataframe\">\n",
       "  <thead>\n",
       "    <tr style=\"text-align: right;\">\n",
       "      <th></th>\n",
       "      <th>player_id</th>\n",
       "      <th>player_name</th>\n",
       "      <th>transfer_date</th>\n",
       "      <th>team_in_name</th>\n",
       "      <th>team_out_name</th>\n",
       "    </tr>\n",
       "  </thead>\n",
       "  <tbody>\n",
       "    <tr>\n",
       "      <th>0</th>\n",
       "      <td>230945</td>\n",
       "      <td>Nick Liversedge</td>\n",
       "      <td>2013-09-16</td>\n",
       "      <td>Hyde United</td>\n",
       "      <td>Burnley</td>\n",
       "    </tr>\n",
       "    <tr>\n",
       "      <th>1</th>\n",
       "      <td>230945</td>\n",
       "      <td>Nick Liversedge</td>\n",
       "      <td>2013-07-01</td>\n",
       "      <td>Burnley</td>\n",
       "      <td>Whitby Town</td>\n",
       "    </tr>\n",
       "    <tr>\n",
       "      <th>2</th>\n",
       "      <td>19115</td>\n",
       "      <td>B. Peacock-Farrell</td>\n",
       "      <td>2019-08-02</td>\n",
       "      <td>Burnley</td>\n",
       "      <td>Leeds</td>\n",
       "    </tr>\n",
       "    <tr>\n",
       "      <th>3</th>\n",
       "      <td>102734</td>\n",
       "      <td>Richard Chaplow</td>\n",
       "      <td>2005-01-01</td>\n",
       "      <td>West Brom</td>\n",
       "      <td>Burnley</td>\n",
       "    </tr>\n",
       "    <tr>\n",
       "      <th>4</th>\n",
       "      <td>87911</td>\n",
       "      <td>Martin Paterson</td>\n",
       "      <td>2013-07-01</td>\n",
       "      <td>Huddersfield</td>\n",
       "      <td>Burnley</td>\n",
       "    </tr>\n",
       "  </tbody>\n",
       "</table>\n",
       "</div>"
      ],
      "text/plain": [
       "   player_id         player_name transfer_date  team_in_name team_out_name\n",
       "0     230945     Nick Liversedge    2013-09-16   Hyde United       Burnley\n",
       "1     230945     Nick Liversedge    2013-07-01       Burnley   Whitby Town\n",
       "2      19115  B. Peacock-Farrell    2019-08-02       Burnley         Leeds\n",
       "3     102734     Richard Chaplow    2005-01-01     West Brom       Burnley\n",
       "4      87911     Martin Paterson    2013-07-01  Huddersfield       Burnley"
      ]
     },
     "execution_count": 9,
     "metadata": {},
     "output_type": "execute_result"
    }
   ],
   "source": [
    "## also drop ids - not needed (ones I need are in a dict)\n",
    "to_drop = ['lastUpdate', 'type',  'team_in_id', 'team_out_id']\n",
    "transfers = transfers.drop(to_drop, axis = 1)\n",
    "transfers.head()"
   ]
  },
  {
   "cell_type": "code",
   "execution_count": 10,
   "metadata": {},
   "outputs": [
    {
     "data": {
      "text/html": [
       "<div>\n",
       "<style scoped>\n",
       "    .dataframe tbody tr th:only-of-type {\n",
       "        vertical-align: middle;\n",
       "    }\n",
       "\n",
       "    .dataframe tbody tr th {\n",
       "        vertical-align: top;\n",
       "    }\n",
       "\n",
       "    .dataframe thead th {\n",
       "        text-align: right;\n",
       "    }\n",
       "</style>\n",
       "<table border=\"1\" class=\"dataframe\">\n",
       "  <thead>\n",
       "    <tr style=\"text-align: right;\">\n",
       "      <th></th>\n",
       "      <th>player_id</th>\n",
       "      <th>player_name</th>\n",
       "      <th>transfer_date</th>\n",
       "      <th>team_in_name</th>\n",
       "      <th>team_out_name</th>\n",
       "    </tr>\n",
       "  </thead>\n",
       "  <tbody>\n",
       "    <tr>\n",
       "      <th>33242</th>\n",
       "      <td>35647</td>\n",
       "      <td>NaN</td>\n",
       "      <td>2019-07-24</td>\n",
       "      <td>Cruz Azul</td>\n",
       "      <td>Pachuca</td>\n",
       "    </tr>\n",
       "    <tr>\n",
       "      <th>34635</th>\n",
       "      <td>35647</td>\n",
       "      <td>NaN</td>\n",
       "      <td>2019-07-24</td>\n",
       "      <td>Cruz Azul</td>\n",
       "      <td>Pachuca</td>\n",
       "    </tr>\n",
       "  </tbody>\n",
       "</table>\n",
       "</div>"
      ],
      "text/plain": [
       "       player_id player_name transfer_date team_in_name team_out_name\n",
       "33242      35647         NaN    2019-07-24    Cruz Azul       Pachuca\n",
       "34635      35647         NaN    2019-07-24    Cruz Azul       Pachuca"
      ]
     },
     "execution_count": 10,
     "metadata": {},
     "output_type": "execute_result"
    }
   ],
   "source": [
    "## look at rows with missing player names\n",
    "transfers.loc[transfers['player_name'].isnull() == True, :]"
   ]
  },
  {
   "cell_type": "code",
   "execution_count": 11,
   "metadata": {},
   "outputs": [],
   "source": [
    "## change missing players from null to missing\n",
    "transfers.loc[transfers['player_name'].isnull() == True, 'player_name'] = 'Missing'"
   ]
  },
  {
   "cell_type": "code",
   "execution_count": 12,
   "metadata": {},
   "outputs": [],
   "source": [
    "## deal with missing team names. replace missing with 'Released'\n",
    "transfers.loc[transfers['team_in_name'].isnull() == True, 'team_in_name'] = 'Released'\n",
    "transfers.loc[transfers['team_out_name'].isnull() == True, 'team_out_name'] = 'Released'"
   ]
  },
  {
   "cell_type": "code",
   "execution_count": 13,
   "metadata": {},
   "outputs": [
    {
     "name": "stdout",
     "output_type": "stream",
     "text": [
      "<class 'pandas.core.frame.DataFrame'>\n",
      "RangeIndex: 60766 entries, 0 to 60765\n",
      "Data columns (total 5 columns):\n",
      "player_id        60766 non-null int64\n",
      "player_name      60766 non-null object\n",
      "transfer_date    60766 non-null object\n",
      "team_in_name     60766 non-null object\n",
      "team_out_name    60766 non-null object\n",
      "dtypes: int64(1), object(4)\n",
      "memory usage: 2.3+ MB\n"
     ]
    }
   ],
   "source": [
    "## there is no longer missing data\n",
    "transfers.info()"
   ]
  },
  {
   "cell_type": "markdown",
   "metadata": {},
   "source": [
    "## Create new features"
   ]
  },
  {
   "cell_type": "code",
   "execution_count": 14,
   "metadata": {},
   "outputs": [
    {
     "data": {
      "text/html": [
       "<div>\n",
       "<style scoped>\n",
       "    .dataframe tbody tr th:only-of-type {\n",
       "        vertical-align: middle;\n",
       "    }\n",
       "\n",
       "    .dataframe tbody tr th {\n",
       "        vertical-align: top;\n",
       "    }\n",
       "\n",
       "    .dataframe thead th {\n",
       "        text-align: right;\n",
       "    }\n",
       "</style>\n",
       "<table border=\"1\" class=\"dataframe\">\n",
       "  <thead>\n",
       "    <tr style=\"text-align: right;\">\n",
       "      <th></th>\n",
       "      <th>player_id</th>\n",
       "      <th>player_name</th>\n",
       "      <th>transfer_date</th>\n",
       "      <th>team_in_name</th>\n",
       "      <th>team_out_name</th>\n",
       "      <th>year</th>\n",
       "      <th>month</th>\n",
       "      <th>day</th>\n",
       "    </tr>\n",
       "  </thead>\n",
       "  <tbody>\n",
       "    <tr>\n",
       "      <th>0</th>\n",
       "      <td>230945</td>\n",
       "      <td>Nick Liversedge</td>\n",
       "      <td>2013-09-16</td>\n",
       "      <td>Hyde United</td>\n",
       "      <td>Burnley</td>\n",
       "      <td>2013</td>\n",
       "      <td>9</td>\n",
       "      <td>16</td>\n",
       "    </tr>\n",
       "    <tr>\n",
       "      <th>1</th>\n",
       "      <td>230945</td>\n",
       "      <td>Nick Liversedge</td>\n",
       "      <td>2013-07-01</td>\n",
       "      <td>Burnley</td>\n",
       "      <td>Whitby Town</td>\n",
       "      <td>2013</td>\n",
       "      <td>7</td>\n",
       "      <td>1</td>\n",
       "    </tr>\n",
       "    <tr>\n",
       "      <th>2</th>\n",
       "      <td>19115</td>\n",
       "      <td>B. Peacock-Farrell</td>\n",
       "      <td>2019-08-02</td>\n",
       "      <td>Burnley</td>\n",
       "      <td>Leeds</td>\n",
       "      <td>2019</td>\n",
       "      <td>8</td>\n",
       "      <td>2</td>\n",
       "    </tr>\n",
       "    <tr>\n",
       "      <th>3</th>\n",
       "      <td>102734</td>\n",
       "      <td>Richard Chaplow</td>\n",
       "      <td>2005-01-01</td>\n",
       "      <td>West Brom</td>\n",
       "      <td>Burnley</td>\n",
       "      <td>2005</td>\n",
       "      <td>1</td>\n",
       "      <td>1</td>\n",
       "    </tr>\n",
       "    <tr>\n",
       "      <th>4</th>\n",
       "      <td>87911</td>\n",
       "      <td>Martin Paterson</td>\n",
       "      <td>2013-07-01</td>\n",
       "      <td>Huddersfield</td>\n",
       "      <td>Burnley</td>\n",
       "      <td>2013</td>\n",
       "      <td>7</td>\n",
       "      <td>1</td>\n",
       "    </tr>\n",
       "  </tbody>\n",
       "</table>\n",
       "</div>"
      ],
      "text/plain": [
       "   player_id         player_name transfer_date  team_in_name team_out_name  \\\n",
       "0     230945     Nick Liversedge    2013-09-16   Hyde United       Burnley   \n",
       "1     230945     Nick Liversedge    2013-07-01       Burnley   Whitby Town   \n",
       "2      19115  B. Peacock-Farrell    2019-08-02       Burnley         Leeds   \n",
       "3     102734     Richard Chaplow    2005-01-01     West Brom       Burnley   \n",
       "4      87911     Martin Paterson    2013-07-01  Huddersfield       Burnley   \n",
       "\n",
       "   year  month  day  \n",
       "0  2013      9   16  \n",
       "1  2013      7    1  \n",
       "2  2019      8    2  \n",
       "3  2005      1    1  \n",
       "4  2013      7    1  "
      ]
     },
     "execution_count": 14,
     "metadata": {},
     "output_type": "execute_result"
    }
   ],
   "source": [
    "## change transfer dates to datetime\n",
    "transfers['transfer_date'] = pd.to_datetime(transfers['transfer_date'])\n",
    "\n",
    "## grab year, month, day from transfer_date\n",
    "transfers['year'] = transfers['transfer_date'].apply(lambda x: x.year)\n",
    "transfers['month'] = transfers['transfer_date'].apply(lambda x: x.month)\n",
    "transfers['day'] = transfers['transfer_date'].apply(lambda x: x.day)\n",
    "\n",
    "transfers.head()"
   ]
  },
  {
   "cell_type": "code",
   "execution_count": 15,
   "metadata": {},
   "outputs": [],
   "source": [
    "## graph will only have years 2010-2019\n",
    "transfers = transfers.loc[(transfers['year'] >= 2010) & (transfers['year'] <=2019), :]"
   ]
  },
  {
   "cell_type": "code",
   "execution_count": 16,
   "metadata": {},
   "outputs": [
    {
     "data": {
      "text/html": [
       "<div>\n",
       "<style scoped>\n",
       "    .dataframe tbody tr th:only-of-type {\n",
       "        vertical-align: middle;\n",
       "    }\n",
       "\n",
       "    .dataframe tbody tr th {\n",
       "        vertical-align: top;\n",
       "    }\n",
       "\n",
       "    .dataframe thead th {\n",
       "        text-align: right;\n",
       "    }\n",
       "</style>\n",
       "<table border=\"1\" class=\"dataframe\">\n",
       "  <thead>\n",
       "    <tr style=\"text-align: right;\">\n",
       "      <th></th>\n",
       "      <th>player_id</th>\n",
       "      <th>player_name</th>\n",
       "      <th>transfer_date</th>\n",
       "      <th>team_in_name</th>\n",
       "      <th>team_out_name</th>\n",
       "      <th>year</th>\n",
       "      <th>month</th>\n",
       "      <th>day</th>\n",
       "      <th>edge</th>\n",
       "    </tr>\n",
       "  </thead>\n",
       "  <tbody>\n",
       "    <tr>\n",
       "      <th>0</th>\n",
       "      <td>230945</td>\n",
       "      <td>Nick Liversedge</td>\n",
       "      <td>2013-09-16</td>\n",
       "      <td>Hyde United</td>\n",
       "      <td>Burnley</td>\n",
       "      <td>2013</td>\n",
       "      <td>9</td>\n",
       "      <td>16</td>\n",
       "      <td>(Hyde United, Burnley)</td>\n",
       "    </tr>\n",
       "    <tr>\n",
       "      <th>1</th>\n",
       "      <td>230945</td>\n",
       "      <td>Nick Liversedge</td>\n",
       "      <td>2013-07-01</td>\n",
       "      <td>Burnley</td>\n",
       "      <td>Whitby Town</td>\n",
       "      <td>2013</td>\n",
       "      <td>7</td>\n",
       "      <td>1</td>\n",
       "      <td>(Burnley, Whitby Town)</td>\n",
       "    </tr>\n",
       "    <tr>\n",
       "      <th>2</th>\n",
       "      <td>19115</td>\n",
       "      <td>B. Peacock-Farrell</td>\n",
       "      <td>2019-08-02</td>\n",
       "      <td>Burnley</td>\n",
       "      <td>Leeds</td>\n",
       "      <td>2019</td>\n",
       "      <td>8</td>\n",
       "      <td>2</td>\n",
       "      <td>(Burnley, Leeds)</td>\n",
       "    </tr>\n",
       "    <tr>\n",
       "      <th>4</th>\n",
       "      <td>87911</td>\n",
       "      <td>Martin Paterson</td>\n",
       "      <td>2013-07-01</td>\n",
       "      <td>Huddersfield</td>\n",
       "      <td>Burnley</td>\n",
       "      <td>2013</td>\n",
       "      <td>7</td>\n",
       "      <td>1</td>\n",
       "      <td>(Huddersfield, Burnley)</td>\n",
       "    </tr>\n",
       "    <tr>\n",
       "      <th>6</th>\n",
       "      <td>18923</td>\n",
       "      <td>S. Defour</td>\n",
       "      <td>2019-09-02</td>\n",
       "      <td>Antwerp</td>\n",
       "      <td>Burnley</td>\n",
       "      <td>2019</td>\n",
       "      <td>9</td>\n",
       "      <td>2</td>\n",
       "      <td>(Antwerp, Burnley)</td>\n",
       "    </tr>\n",
       "  </tbody>\n",
       "</table>\n",
       "</div>"
      ],
      "text/plain": [
       "   player_id         player_name transfer_date  team_in_name team_out_name  \\\n",
       "0     230945     Nick Liversedge    2013-09-16   Hyde United       Burnley   \n",
       "1     230945     Nick Liversedge    2013-07-01       Burnley   Whitby Town   \n",
       "2      19115  B. Peacock-Farrell    2019-08-02       Burnley         Leeds   \n",
       "4      87911     Martin Paterson    2013-07-01  Huddersfield       Burnley   \n",
       "6      18923           S. Defour    2019-09-02       Antwerp       Burnley   \n",
       "\n",
       "   year  month  day                     edge  \n",
       "0  2013      9   16   (Hyde United, Burnley)  \n",
       "1  2013      7    1   (Burnley, Whitby Town)  \n",
       "2  2019      8    2         (Burnley, Leeds)  \n",
       "4  2013      7    1  (Huddersfield, Burnley)  \n",
       "6  2019      9    2       (Antwerp, Burnley)  "
      ]
     },
     "execution_count": 16,
     "metadata": {},
     "output_type": "execute_result"
    }
   ],
   "source": [
    "## create edges within dataframe - these will come in handy later\n",
    "def create_edges(row):\n",
    "    return (row['team_in_name'], row['team_out_name'])\n",
    "\n",
    "transfers['edge'] = transfers.apply(lambda row: create_edges(row), axis = 1)\n",
    "transfers.head()"
   ]
  },
  {
   "cell_type": "code",
   "execution_count": 17,
   "metadata": {},
   "outputs": [
    {
     "data": {
      "text/plain": [
       "(51785, 9)"
      ]
     },
     "execution_count": 17,
     "metadata": {},
     "output_type": "execute_result"
    }
   ],
   "source": [
    "transfers.shape"
   ]
  },
  {
   "cell_type": "markdown",
   "metadata": {},
   "source": [
    "## Add colors to league dict"
   ]
  },
  {
   "cell_type": "code",
   "execution_count": 18,
   "metadata": {},
   "outputs": [],
   "source": [
    "## add official color for each league from sportsfancovers.com\n",
    "leagues['Premier League']['color'] = '#3d195b' # purple\n",
    "leagues['MLS']['color'] = '#001f5b' # blue\n",
    "leagues['Bundesliga']['color'] = '#d20515' # red\n",
    "leagues['La Liga']['color'] = '#ee8707' #orange\n",
    "leagues['Ligue 1']['color'] = '#dae025' #yellow\n",
    "leagues['Liga Nos']['color'] = '#d3c084' #gold - from portugese national team\n",
    "leagues['Premier Liga']['color'] = 'black' \n",
    "leagues['Serie A']['color'] = '#008fd7' # light blue\n",
    "leagues['Liga MX']['color'] = '#c1d82f'"
   ]
  },
  {
   "cell_type": "markdown",
   "metadata": {},
   "source": [
    "## Define functions to get node colors"
   ]
  },
  {
   "cell_type": "code",
   "execution_count": 19,
   "metadata": {},
   "outputs": [],
   "source": [
    "## Define functions to get node colors for graph\n",
    "\n",
    "def get_colors(graph):\n",
    "    cmap = []\n",
    "    \n",
    "    global leagues\n",
    "    global teams\n",
    "    \n",
    "    for node in graph.nodes():\n",
    "        ## get team id from team name\n",
    "        if node in teams:\n",
    "            team_id = teams[node]\n",
    "            \n",
    "            ## check if node in teams list by looping through all teams in all leagues\n",
    "            for league in leagues:\n",
    "                if team_id in leagues[league]['teams']:\n",
    "                    ## add color to cmap list\n",
    "                    cmap.append(leagues[league]['color'])\n",
    "        \n",
    "        elif node == 'Released':\n",
    "            cmap.append('green') \n",
    "        \n",
    "        else:\n",
    "            cmap.append('gray') ## these are teams that are not in our 9 leagues\n",
    "            \n",
    "    return cmap"
   ]
  },
  {
   "cell_type": "code",
   "execution_count": 20,
   "metadata": {},
   "outputs": [],
   "source": [
    "## create function that will check if team is in edge. This will be used for filtering on the graph\n",
    "def contains_team(row, team):\n",
    "    if team in row:\n",
    "        return True\n",
    "    else:\n",
    "        return False"
   ]
  },
  {
   "cell_type": "markdown",
   "metadata": {},
   "source": [
    "## Define Function to Create Graph"
   ]
  },
  {
   "cell_type": "code",
   "execution_count": 21,
   "metadata": {},
   "outputs": [],
   "source": [
    "def create_graph(team = None, player = None, year = [None, None], df = transfers):\n",
    "     ## if team or player is not none, filter\n",
    "    if team != None:\n",
    "        df['team_search'] = df['edge'].apply(lambda row: contains_team(row, team))\n",
    "        df = df.loc[df['team_search'] == True, :]\n",
    "    if player != None:\n",
    "        df = df.loc[df['player_name'] == player, :]\n",
    "    if year[0] != None:\n",
    "        year_min = year[0]\n",
    "        year_max = year[1]\n",
    "        df = df.loc[(df['year'] >= year_min) & (df['year'] <= year_max), :]\n",
    "#     else:\n",
    "#         df = transfers.head(1000) ## REMEMBER THIS IS JUST SHOWING 1000\n",
    "#         #df = transfers\n",
    "    \n",
    "    ## create graph\n",
    "    g = nx.from_pandas_edgelist(df, source = 'team_in_name', target = 'team_out_name', create_using = nx.DiGraph)\n",
    "    \n",
    "    return g"
   ]
  },
  {
   "cell_type": "markdown",
   "metadata": {},
   "source": [
    "## Convert Coordinates for all teams"
   ]
  },
  {
   "cell_type": "code",
   "execution_count": 22,
   "metadata": {},
   "outputs": [],
   "source": [
    "## define function to convert coordinates from DMS to degrees\n",
    "def convert_coordinates(lat, lon):\n",
    "    deg, minutes, seconds, drop, direction = re.split('[°\\'\"]', lat)\n",
    "    lat_new = (float(deg) + float(minutes)/60 + float(seconds)/(60*60)) * (-1 if direction.strip() in ['W', 'S'] else 1)\n",
    "    \n",
    "    deg, minutes, seconds, drop, direction = re.split('[°\\'\"]', lon)\n",
    "    lon_new = (float(deg) + float(minutes)/60 + float(seconds)/(60*60)) * (-1 if direction.strip() in ['W', 'S'] else 1)\n",
    "    \n",
    "    all_teams[team]['lat'] = lat_new\n",
    "    all_teams[team]['lng'] = lon_new"
   ]
  },
  {
   "cell_type": "code",
   "execution_count": 23,
   "metadata": {},
   "outputs": [
    {
     "data": {
      "text/plain": [
       "['10907', '10894']"
      ]
     },
     "execution_count": 23,
     "metadata": {},
     "output_type": "execute_result"
    }
   ],
   "source": [
    "## call function to convert the coordinates of every team from DMS to degrees\n",
    "exceptions =  []\n",
    "for team in all_teams:\n",
    "    try:\n",
    "        convert_coordinates(all_teams[team]['lat'], all_teams[team]['lng'])\n",
    "    except:\n",
    "        exceptions.append(team)\n",
    "        pass\n",
    "exceptions"
   ]
  },
  {
   "cell_type": "markdown",
   "metadata": {},
   "source": [
    "## Handle teams that are out of place"
   ]
  },
  {
   "cell_type": "code",
   "execution_count": 24,
   "metadata": {
    "scrolled": true
   },
   "outputs": [
    {
     "name": "stdout",
     "output_type": "stream",
     "text": [
      "Juventus 496\n",
      "Juventus 10019\n",
      "Leon 2289\n",
      "Santa Clara 227\n",
      "Maritimo 214\n",
      "Belenenses 221\n",
      "Tenerife 719\n",
      "Las Palmas 534\n",
      "Guadeloupe 10983\n",
      "Camacha 4828\n"
     ]
    }
   ],
   "source": [
    "## Some teams are out of place on the map - fix the coordinates for these\n",
    "misplaced = ['Juventus', 'Leon', 'Santa Clara', 'Maritimo', 'Belenenses', 'Tenerife', 'Las Palmas', 'Guadeloupe', 'Camacha', 'Minnesota Stars FC']\n",
    "for name in misplaced:\n",
    "    for team in all_teams:\n",
    "        if all_teams[team]['name'] == name:\n",
    "            print(name + \" \" + team)"
   ]
  },
  {
   "cell_type": "code",
   "execution_count": 25,
   "metadata": {},
   "outputs": [],
   "source": [
    "## Brazilian Juventus\n",
    "all_teams['10019']['name'] = 'Clube Atletico Juventus'\n",
    "\n",
    "## Leon - Mexico\n",
    "all_teams['2289']['lat'] = 21.1250\n",
    "all_teams['2289']['lng'] = -101.6869\n",
    "\n",
    "## Belenenses - Portugal\n",
    "all_teams['221']['lat'] = 38.7088\n",
    "all_teams['221']['lng'] = -9.2627\n",
    "\n",
    "## Wexford Youths - 10907\n",
    "all_teams['10907']['lat'] = 52.3848\n",
    "all_teams['10907']['lng'] = -6.5006\n",
    "\n",
    "## Lillestrom - 10894\n",
    "all_teams['10894']['lat'] = 59.9560\n",
    "all_teams['10894']['lng'] = 11.0504\n",
    "\n",
    "## all other teams appear to be correct\n"
   ]
  },
  {
   "cell_type": "code",
   "execution_count": 26,
   "metadata": {},
   "outputs": [],
   "source": [
    "## this is checking to make sure all the nodes are \n",
    "# passed = []\n",
    "# for node in g.nodes():\n",
    "#     for team in all_teams:\n",
    "#         if node == all_teams[team]['name']:\n",
    "#             print(all_teams[team]['lng'], all_teams[team]['lat'])\n",
    "#             g.nodes[node]['pos'] = list([all_teams[team]['lng'], all_teams[team]['lat']])\n",
    "    "
   ]
  },
  {
   "cell_type": "markdown",
   "metadata": {},
   "source": [
    "## Define Functions to Create Figure"
   ]
  },
  {
   "cell_type": "code",
   "execution_count": 27,
   "metadata": {},
   "outputs": [],
   "source": [
    "def get_title(team = None, player = None, year = [None, None]):\n",
    "    \n",
    "    ## get year portion for title\n",
    "    if year[0] != year[1]:\n",
    "        year_title = str(year[0]) + \"-\" + str(year[1])\n",
    "    else: \n",
    "        year_title = str(year[0])\n",
    "     \n",
    "    ## get remainder of title. Player portion takes precedent over team\n",
    "    if player != None:\n",
    "        title = \"Transfers for \" + player + \": \" + year_title \n",
    "    elif team != None:\n",
    "        title = \"Transfers in and out of \" + str(team) + \": \"  + year_title\n",
    "    else:\n",
    "        title = \"Transfers in and out of Top 9 Leagues for \" + year_title\n",
    "        \n",
    "    return title"
   ]
  },
  {
   "cell_type": "code",
   "execution_count": 28,
   "metadata": {},
   "outputs": [],
   "source": [
    "def create_fig(G, title, map_type):\n",
    "    \n",
    "    ## get layout of nodes\n",
    "    \n",
    "    ## if visual is world map - get coordinates\n",
    "    if map_type == 'world-map':\n",
    "        ## get layout - coordinates\n",
    "        for node in G.nodes():\n",
    "            for team in all_teams:\n",
    "                if node == all_teams[team]['name']:\n",
    "                    G.nodes[node]['pos'] = list([all_teams[team]['lng'], all_teams[team]['lat']])\n",
    "        ## This puts nodes not in all_teams (i.e. \"Released\") at coordinates (0,0) - way of error handling\n",
    "        for node in G.nodes():\n",
    "            try:\n",
    "                x = G.nodes[node]['pos']\n",
    "            except:\n",
    "                if node == 'Minnesota Stars FC':\n",
    "                    G.nodes[node]['pos'] = [45.1608, -93.2349]\n",
    "                else:\n",
    "                    G.nodes[node]['pos'] = [0,0]\n",
    "    \n",
    "    ## if visual is networkx - get spring layout points\n",
    "    else:\n",
    "        pos = nx.spring_layout(G)\n",
    "        for node in G.nodes():\n",
    "            G.nodes[node]['pos'] = list(pos[node])\n",
    "      \n",
    "    ## get edges (transfers) and nodes (teams) as scatter traces\n",
    "    edge_x = []\n",
    "    edge_y = []\n",
    "\n",
    "    for edge in G.edges():\n",
    "        x0, y0 = G.nodes[edge[0]]['pos']\n",
    "        x1, y1 = G.nodes[edge[1]]['pos']\n",
    "        edge_x.append(x0)\n",
    "        edge_x.append(x1)\n",
    "        edge_x.append(None)\n",
    "        edge_y.append(y0)\n",
    "        edge_y.append(y1)\n",
    "        edge_y.append(None)\n",
    "    \n",
    "    if map_type == 'world-map':\n",
    "        edge_trace = go.Scattergeo(lon = edge_x, lat = edge_y, mode = 'lines',\n",
    "                           line = dict(width = 0.5, color = 'black'),\n",
    "                           hoverinfo = None,\n",
    "                            opacity = 0.35)\n",
    "    else:\n",
    "        edge_trace = go.Scatter(x = edge_x, y = edge_y,\n",
    "                           line = dict(width = 0.5, color = 'black'),\n",
    "                           hoverinfo = None,\n",
    "                            opacity = 0.35)\n",
    "\n",
    "    #edge_trace.line.width = edge_widths\n",
    "\n",
    "    node_x = []\n",
    "    node_y = []\n",
    "    node_text = []\n",
    "    for node in G.nodes():\n",
    "        x, y = G.nodes[node]['pos']\n",
    "        node_x.append(x)\n",
    "        node_y.append(y)\n",
    "        node_text.append(node) # on hover will display team\n",
    "    \n",
    "    node_colors = get_colors(G) ## get node colors\n",
    "    \n",
    "    if map_type == 'world-map':\n",
    "        node_trace = go.Scattergeo( \n",
    "        lon = node_x, lat = node_y, \n",
    "        mode = 'markers', \n",
    "        hoverinfo = 'text',\n",
    "        marker = dict(\n",
    "            color = node_colors,\n",
    "            showscale = False\n",
    "            ))\n",
    "    else:\n",
    "        node_trace = go.Scatter(\n",
    "            x = node_x, y = node_y, \n",
    "            mode = 'markers', \n",
    "            hoverinfo = 'text',\n",
    "            marker = dict(\n",
    "                color = node_colors,\n",
    "                showscale = False\n",
    "                ))\n",
    "        \n",
    "    node_trace.text = node_text\n",
    "\n",
    "    ## scale node size by number of connections\n",
    "    node_sizes = []\n",
    "\n",
    "    for node, adjacencies in enumerate(G.adjacency()):\n",
    "        node_sizes.append(len(adjacencies[1]))\n",
    "        \n",
    "    a = 10 # min node size after scaling\n",
    "    b = 20 # max node size after scaling\n",
    "    node_sizes_scaled = []\n",
    "\n",
    "    min_nodes = min(node_sizes)\n",
    "    max_nodes = max(node_sizes)\n",
    "    \n",
    "    node_sizes_scaled = [(((b-a) * (x - min_nodes))/(max_nodes - min_nodes)) + a for x in node_sizes]\n",
    "\n",
    "    node_trace.marker.size = node_sizes_scaled\n",
    "    \n",
    "    ## create figure\n",
    "    fig = go.Figure(data = [edge_trace, node_trace],\n",
    "               layout = go.Layout(\n",
    "                   title = title,\n",
    "                   showlegend = False,\n",
    "                   hovermode = 'closest',\n",
    "                   xaxis = dict(showgrid = False, zeroline = False, showticklabels = False),\n",
    "                   yaxis = dict(showgrid = False, zeroline = False, showticklabels = False),\n",
    "                   margin = dict(b = 20, l = 5, r = 5, t = 40)))\n",
    "    \n",
    "    return fig"
   ]
  },
  {
   "cell_type": "markdown",
   "metadata": {},
   "source": [
    "## Define functions for player and team dropdowns"
   ]
  },
  {
   "cell_type": "code",
   "execution_count": 29,
   "metadata": {},
   "outputs": [],
   "source": [
    "## def get team dropdown - this will change when filtered for player or year \n",
    "\n",
    "def get_team_dd(player = None, year = [None, None], df = transfers):\n",
    "    ## filter df\n",
    "    if player != None:\n",
    "        df = df.loc[df['player_name'] == player, :]\n",
    "    if year[0] != None:\n",
    "        year_min = year[0]\n",
    "        year_max = year[1]\n",
    "        df = df.loc[(df['year'] >= year_min) & (df['year'] <= year_max), :]\n",
    "    ## get list of unique teams in the filtered df\n",
    "    team_list = df['team_in_name'].append(df['team_out_name'])\n",
    "    teams_unique = team_list.unique()\n",
    "    team_dd = []\n",
    "    for team in teams_unique:\n",
    "        options =  {}\n",
    "        options['label'] = team\n",
    "        options['value'] = team\n",
    "        team_dd.append(options)\n",
    "    team_dd = sorted(team_dd, key = lambda i: i['label'])\n",
    "    return team_dd"
   ]
  },
  {
   "cell_type": "code",
   "execution_count": 30,
   "metadata": {},
   "outputs": [],
   "source": [
    "## def function to get the player dropdown list - this will change when filtered for team or year\n",
    "\n",
    "def get_player_dd(team = None, year = [None, None], df = transfers):\n",
    "    ## filter df\n",
    "    if team != None:\n",
    "        df['team_search'] = df['edge'].apply(lambda row: contains_team(row, team))\n",
    "        df = df.loc[df['team_search'] == True, :]\n",
    "    if year[0] != None:\n",
    "        year_min = year[0]\n",
    "        year_max = year[1]\n",
    "        df = df.loc[(df['year'] >= year_min) & (df['year'] <= year_max), :]\n",
    "        \n",
    "    ## get list of unique players\n",
    "    players_unique = df['player_name'].unique()\n",
    "    player_dd = []\n",
    "    \n",
    "    for player in players_unique:\n",
    "        options = {}\n",
    "        options['label'] = player\n",
    "        options['value'] = player\n",
    "        player_dd.append(options)\n",
    "    \n",
    "    player_dd = sorted(player_dd, key = lambda i: i['label'])\n",
    "    return player_dd"
   ]
  },
  {
   "cell_type": "markdown",
   "metadata": {},
   "source": [
    "## Put graph on dash"
   ]
  },
  {
   "cell_type": "code",
   "execution_count": null,
   "metadata": {},
   "outputs": [
    {
     "name": "stdout",
     "output_type": "stream",
     "text": [
      " * Serving Flask app \"__main__\" (lazy loading)\n",
      " * Environment: production\n",
      "   WARNING: This is a development server. Do not use it in a production deployment.\n",
      "   Use a production WSGI server instead.\n",
      " * Debug mode: off\n"
     ]
    },
    {
     "name": "stderr",
     "output_type": "stream",
     "text": [
      " * Running on http://127.0.0.1:8050/ (Press CTRL+C to quit)\n",
      "127.0.0.1 - - [14/Sep/2020 09:39:16] \"GET / HTTP/1.1\" 200 -\n",
      "127.0.0.1 - - [14/Sep/2020 09:39:16] \"GET /_dash-dependencies HTTP/1.1\" 200 -\n",
      "127.0.0.1 - - [14/Sep/2020 09:39:16] \"GET /_dash-layout HTTP/1.1\" 200 -\n",
      "127.0.0.1 - - [14/Sep/2020 09:39:16] \"POST /_dash-update-component HTTP/1.1\" 200 -\n",
      "127.0.0.1 - - [14/Sep/2020 09:39:16] \"POST /_dash-update-component HTTP/1.1\" 200 -\n",
      "127.0.0.1 - - [14/Sep/2020 09:39:17] \"POST /_dash-update-component HTTP/1.1\" 200 -\n"
     ]
    }
   ],
   "source": [
    "app = dash.Dash(__name__)\n",
    "app.layout = html.Div([\n",
    "    html.H1(\n",
    "      children = 'The Transfer Network', \n",
    "        style = {\n",
    "            'textAlign': 'Center'\n",
    "        }\n",
    "    ),\n",
    "    html.Div(\n",
    "        children = 'A visualization of the global movement of soccer players',\n",
    "        style = {\n",
    "            'textAlign': 'center'\n",
    "        }\n",
    "    ),\n",
    "    \n",
    "    html.Div([\n",
    "        dcc.Dropdown(\n",
    "            id = 'player-dropdown',\n",
    "            #options = player_options,\n",
    "            value = None,\n",
    "            placeholder = \"Start typing to select a player\"\n",
    "        ),\n",
    "      \n",
    "        html.Div(id = 'pd-output-container') \n",
    "    ]),\n",
    "    html.Div([\n",
    "        dcc.Dropdown(\n",
    "            id = 'team-dropdown',\n",
    "            #options = team_options,\n",
    "            value = None,\n",
    "            placeholder = \"Start typing to select a team\"\n",
    "        ),\n",
    "        html.Div(id = 'td-output-container')\n",
    "    ]),\n",
    "    html.Div(\n",
    "        children = 'Select year(s) of interest. (A player will not show up in dropdown unless they were transferred within the range of years)'\n",
    "    ),\n",
    "    html.Div([\n",
    "        dcc.RangeSlider(\n",
    "        id = 'year-range-slider',\n",
    "        min = transfers['year'].min(),\n",
    "        max = transfers['year'].max(),\n",
    "        value = [2010, 2010],\n",
    "        marks = {str(year): str(year) for year in transfers['year'].unique()},\n",
    "        step = None),\n",
    "        html.Div(id = 'output-container-range-slider')\n",
    "    ]),\n",
    "    html.Div(\n",
    "        children = 'Show visual as:'\n",
    "    ),\n",
    "    html.Div([\n",
    "        dcc.RadioItems(\n",
    "        id = 'radio-type-selector', \n",
    "        options = [\n",
    "            {'label': 'NetworkX Graph', 'value': 'nx-graph'},\n",
    "            {'label': 'World Map', 'value': 'world-map'}\n",
    "        ],\n",
    "        value = 'world-map'\n",
    "        )\n",
    "    ]),\n",
    "    html.Div([\n",
    "        dcc.Graph(id = 'transfers-network')\n",
    "    ]),\n",
    "    html.Footer(\n",
    "        children = 'No legend? Due to the way I created node colors and how plotly legends function, I was unable to add a legend to match leagues and colors.'\n",
    "    ),\n",
    "    html.Label(\n",
    "        ['View source code on my ', html.A('Github', href = 'https://github.com/')]\n",
    "    )\n",
    "])\n",
    "\n",
    "\n",
    "## Update graph \n",
    "@app.callback(\n",
    "    dash.dependencies.Output('transfers-network', 'figure'),\n",
    "    [dash.dependencies.Input('team-dropdown', 'value'),\n",
    "    dash.dependencies.Input('player-dropdown', 'value'),\n",
    "    dash.dependencies.Input('year-range-slider', 'value'),\n",
    "    dash.dependencies.Input('radio-type-selector', 'value')])\n",
    "def update_fig(team_value, player_value, year_value, radio_value):\n",
    "    g = create_graph(team = team_value, player = player_value, year = year_value)\n",
    "    title = get_title(team = team_value, player = player_value, year = year_value)\n",
    "    fig = create_fig(g, title, map_type = radio_value)\n",
    "    return fig\n",
    "\n",
    "@app.callback(\n",
    "    dash.dependencies.Output('player-dropdown', 'options'),\n",
    "    [dash.dependencies.Input('team-dropdown', 'value'),\n",
    "    dash.dependencies.Input('year-range-slider', 'value')])\n",
    "def update_player_dd(team_value, year_value):\n",
    "    player_dd = get_player_dd(team = team_value, year = year_value)\n",
    "    return player_dd\n",
    "\n",
    "@app.callback(\n",
    "    dash.dependencies.Output('team-dropdown', 'options'),\n",
    "    [dash.dependencies.Input('player-dropdown', 'value'),\n",
    "    dash.dependencies.Input('year-range-slider', 'value')])\n",
    "def update_team_dd(player_value, year_value):\n",
    "    team_dd = get_team_dd(player = player_value, year = year_value)\n",
    "    return team_dd\n",
    "\n",
    "\n",
    "if __name__ == '__main__':\n",
    "    app.run_server(debug = False)"
   ]
  },
  {
   "cell_type": "code",
   "execution_count": null,
   "metadata": {},
   "outputs": [],
   "source": []
  }
 ],
 "metadata": {
  "kernelspec": {
   "display_name": "Python 3",
   "language": "python",
   "name": "python3"
  },
  "language_info": {
   "codemirror_mode": {
    "name": "ipython",
    "version": 3
   },
   "file_extension": ".py",
   "mimetype": "text/x-python",
   "name": "python",
   "nbconvert_exporter": "python",
   "pygments_lexer": "ipython3",
   "version": "3.7.3"
  }
 },
 "nbformat": 4,
 "nbformat_minor": 2
}
